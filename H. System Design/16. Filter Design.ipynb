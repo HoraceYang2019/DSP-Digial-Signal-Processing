{
 "cells": [
  {
   "cell_type": "markdown",
   "metadata": {},
   "source": [
    "# <font color='blue'>Chapter 16. Filter Design</font>"
   ]
  },
  {
   "cell_type": "markdown",
   "metadata": {
    "slideshow": {
     "slide_type": "slide"
    }
   },
   "source": [
    "## <font color='blue'>Problem</font>"
   ]
  },
  {
   "cell_type": "code",
   "execution_count": null,
   "metadata": {
    "slideshow": {
     "slide_type": "slide"
    }
   },
   "outputs": [],
   "source": [
    "#### Understanding Signal Analysis using the DTFT Windowing Property\n",
    "https://www.youtube.com/watch?v=rog9aHQzZmg"
   ]
  },
  {
   "cell_type": "markdown",
   "metadata": {},
   "source": [
    "### <font color='green'>Next: Time-Frequency Analysis</font>"
   ]
  },
  {
   "cell_type": "markdown",
   "metadata": {},
   "source": [
    "## <font color='blue'>Introduction to Filter Design</font>"
   ]
  },
  {
   "cell_type": "code",
   "execution_count": null,
   "metadata": {},
   "outputs": [],
   "source": [
    "### <font color='blue'> FIR Example 3. (Nulling Filter aka Notch Filter) </font>\n",
    "It is used to filter a specific frquency."
   ]
  },
  {
   "cell_type": "code",
   "execution_count": null,
   "metadata": {},
   "outputs": [],
   "source": [
    "### <font color='blue'>Inverse z Transform</font>\n",
    "Given a unit impule function $\\delta[n]$, please find its z-transform and ROC. <br>\n",
    "\n",
    "\\begin{equation}\n",
    "X(z)=Z\\{ \\delta[n] \\} = \\sum_{n=-\\infty}^{\\infty}\\delta[n]z^{-n} = \\delta[0] \\cdot z^{-0}=1\n",
    "\\end{equation}\n",
    "\n",
    "\\begin{equation}\n",
    "\\begin{split}\n",
    "y[0] &= \\frac{1}{3}(x[0]+x[1]+x[2]) = \\frac{1}{3} (1+2+4) = \\frac{7}{3}  \\\\\n",
    "y[1] &= \\frac{1}{3}(x[1]+x[2]+x[3]) = \\frac{1}{3} (2+4+3) = 3  \\\\       \n",
    "\\end{split}\n",
    "\\end{equation} \n",
    "ROC is all z.\n",
    "\n",
    "\\begin{equation}\n",
    "    X=\n",
    "    \\begin{cases}\n",
    "      0, & \\text{if}\\ a=1 \\\\\n",
    "      1, & \\text{otherwise}\n",
    "    \\end{cases}\n",
    "\\end{equation}\n",
    "\n",
    "<div>\n",
    "<img src=\"attachment:image-2.png\" width=\"500\"/>\n",
    "</div>"
   ]
  },
  {
   "cell_type": "markdown",
   "metadata": {},
   "source": [
    "## <font color='red'> Final Problem:</font>\n",
    "### Reference\n",
    "https://www.youtube.com/watch?v=AU3iQSAIiPo"
   ]
  }
 ],
 "metadata": {
  "kernelspec": {
   "display_name": "Python 3 (ipykernel)",
   "language": "python",
   "name": "python3"
  },
  "language_info": {
   "codemirror_mode": {
    "name": "ipython",
    "version": 3
   },
   "file_extension": ".py",
   "mimetype": "text/x-python",
   "name": "python",
   "nbconvert_exporter": "python",
   "pygments_lexer": "ipython3",
   "version": "3.9.16"
  },
  "varInspector": {
   "cols": {
    "lenName": 16,
    "lenType": 16,
    "lenVar": 40
   },
   "kernels_config": {
    "python": {
     "delete_cmd_postfix": "",
     "delete_cmd_prefix": "del ",
     "library": "var_list.py",
     "varRefreshCmd": "print(var_dic_list())"
    },
    "r": {
     "delete_cmd_postfix": ") ",
     "delete_cmd_prefix": "rm(",
     "library": "var_list.r",
     "varRefreshCmd": "cat(var_dic_list()) "
    }
   },
   "types_to_exclude": [
    "module",
    "function",
    "builtin_function_or_method",
    "instance",
    "_Feature"
   ],
   "window_display": true
  }
 },
 "nbformat": 4,
 "nbformat_minor": 4
}
